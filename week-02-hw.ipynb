{
 "cells": [
  {
   "cell_type": "markdown",
   "metadata": {},
   "source": [
    "# Problem Alphabet Slices\n",
    "* Store the first ten letters of the alphabet in a list.\n",
    "* Use a slice to print out the first three letters of the alphabet.\n",
    "* Use a slice to print out any three letters from the middle of your list."
   ]
  },
  {
   "cell_type": "code",
   "execution_count": 4,
   "metadata": {},
   "outputs": [
    {
     "name": "stdout",
     "output_type": "stream",
     "text": [
      "first_three_elements ['a', 'b', 'c']\n",
      "some_three_elements ['d', 'e', 'f']\n"
     ]
    }
   ],
   "source": [
    "# Solve Alphabet slices here. \n",
    "# first ten letters of the alphabet\n",
    "ten_alphabets = ['a', 'b', 'c', 'd', 'e', 'f', 'g', 'h', 'i', 'j']\n",
    "\n",
    "# first three letters\n",
    "three_alphabets = ten_alphabets[0:3]\n",
    "print('first_three_elements', three_alphabets)\n",
    "\n",
    "# any three letters\n",
    "three_alphabets = ten_alphabets[3:6]\n",
    "print('some_three_elements', three_alphabets)"
   ]
  },
  {
   "cell_type": "markdown",
   "metadata": {},
   "source": [
    "# Problem:  Covert all the rapper names to title case and save them into a new different list. \n",
    "example: lil wayne becomes Lil Wayne"
   ]
  },
  {
   "cell_type": "code",
   "execution_count": 4,
   "metadata": {},
   "outputs": [
    {
     "name": "stdout",
     "output_type": "stream",
     "text": [
      "['Lil Wayne', 'Nicki Minaj', 'Drake']\n"
     ]
    }
   ],
   "source": [
    "# Solve rapper names here\n",
    "# create new list\n",
    "rappers = ['lil wayne', 'nicki minaj', 'drake']\n",
    "new_rappers = []\n",
    "\n",
    "# append a converted name in that new list\n",
    "for name in rappers:\n",
    "    new_rappers.append(name.title())\n",
    "print(new_rappers)"
   ]
  },
  {
   "cell_type": "markdown",
   "metadata": {},
   "source": [
    "# Problem: Write a function thats input is a number and output is:\n",
    "* Return True if the input number is even.\n",
    "* Return False if the input number is odd."
   ]
  },
  {
   "cell_type": "code",
   "execution_count": 8,
   "metadata": {},
   "outputs": [
    {
     "name": "stdout",
     "output_type": "stream",
     "text": [
      "True\n"
     ]
    }
   ],
   "source": [
    "# Solve problem here\n",
    "def is_even(input):\n",
    "    return input%2 == 0\n",
    "\n",
    "print(is_even(2))"
   ]
  },
  {
   "cell_type": "markdown",
   "metadata": {},
   "source": [
    "# Problem: Find the sum and the average of this list of numbers.\n",
    "\n",
    "Try doing this using a loop.  Then try doing this without using a loop. "
   ]
  },
  {
   "cell_type": "code",
   "execution_count": 9,
   "metadata": {},
   "outputs": [
    {
     "name": "stdout",
     "output_type": "stream",
     "text": [
      "353 35.3\n",
      "353 35.3\n"
     ]
    }
   ],
   "source": [
    "# Solve problem here:\n",
    "my_list = [1, 5, 10, 55, 88, 44, 42, 50, 20, 38]\n",
    "\n",
    "\n",
    "\"\"\"\n",
    "using a loop\n",
    "adding numbers to sum within a for loop\n",
    "\n",
    "\"\"\"\n",
    "list_sum = 0\n",
    "for num in my_list:\n",
    "    list_sum += num\n",
    "list_avg = list_sum / len(my_list)\n",
    "print(list_sum, list_avg)\n",
    "\n",
    "\n",
    "\n",
    "\n",
    "\"\"\"\n",
    "without using a loop\n",
    "using sum function to sum up a list of numbers\n",
    "\n",
    "\"\"\"\n",
    "list_sum = sum(my_list)\n",
    "list_avg = list_sum / len(my_list)\n",
    "\n",
    "# Keep this as your last line in this cell.\n",
    "print(list_sum, list_avg)"
   ]
  },
  {
   "cell_type": "markdown",
   "metadata": {},
   "source": [
    "# Problem: Write a function that input is a number and output returns the following\n",
    "* If the input is divisible by three, return 'fizz'\n",
    "* If the input is divisible by five, return 'buzz'\n",
    "* If the input is divisible by three and by five, return 'fizzbuzz'\n",
    "* If the input is not divisible by three or five, return None."
   ]
  },
  {
   "cell_type": "code",
   "execution_count": 11,
   "metadata": {},
   "outputs": [
    {
     "name": "stdout",
     "output_type": "stream",
     "text": [
      "buzz\n"
     ]
    }
   ],
   "source": [
    "# Solve Problem fizzbuzz here:\n",
    "def fizzbuzz (input):\n",
    "    if input%15 == 0:\n",
    "        return 'fizzbuzz'\n",
    "    elif input%3 == 0: \n",
    "        return 'fizz'\n",
    "    elif input%5 == 0:\n",
    "        return 'buzz'\n",
    "    else:\n",
    "        return ''\n",
    "\n",
    "print(fizzbuzz(5))"
   ]
  },
  {
   "cell_type": "markdown",
   "metadata": {},
   "source": [
    "# Problem: \n",
    "Write a function that takes a list and returns a new list that contains all the elements of the first list minus all the duplicates.\n",
    "\n",
    "Example input and expected output\n",
    "\n",
    "input = [\"Michele\", \"Robin\", \"Sara\", \"Michele\"]\n",
    "\n",
    "expected output = ['Michele', 'Robin', 'Sara']\n"
   ]
  },
  {
   "cell_type": "code",
   "execution_count": 8,
   "metadata": {},
   "outputs": [
    {
     "name": "stdout",
     "output_type": "stream",
     "text": [
      "['Robin', 'Michele', 'Sara']\n",
      "['Michele', 'Robin', 'Sara']\n"
     ]
    }
   ],
   "source": [
    "# Solve problem here:\n",
    "names = [\"Michele\", \"Robin\", \"Sara\", \"Michele\"]\n",
    "\n",
    "# solution 1\n",
    "def minus_duplicates(names):\n",
    "    # return set(names)\n",
    "    return list(set(names))\n",
    "print(minus_duplicates(names))\n",
    "\n",
    "\n",
    "# solution 2\n",
    "def minus_duplicates_loop(list):\n",
    "    new_list = []\n",
    "    for item in list:\n",
    "        if item not in new_list:\n",
    "            new_list.append(item)\n",
    "    return new_list\n",
    "# does not print the expected output\n",
    "print(minus_duplicates_loop(names))"
   ]
  },
  {
   "cell_type": "markdown",
   "metadata": {},
   "source": [
    "# Problem: \n",
    "Write a function that takes a list of numbers (for example, a = [5, 10, 15, 20, 25]) and returns a new list of only the first and last elements of the given list.\n",
    "\n",
    "Example input and expected output:\n",
    "\n",
    "input = [5, 10, 15, 20, 25]\n",
    "\n",
    "expected output = [5, 25]"
   ]
  },
  {
   "cell_type": "code",
   "execution_count": 27,
   "metadata": {},
   "outputs": [
    {
     "name": "stdout",
     "output_type": "stream",
     "text": [
      "[5, 25]\n"
     ]
    }
   ],
   "source": [
    "# Solve problem here:\n",
    "def first_and_last(inputs):\n",
    "    return [inputs[0], inputs[-1]]\n",
    "\n",
    "\n",
    "input_list = [5, 10, 99, 20, 25]\n",
    "print(first_and_last(input_list))"
   ]
  },
  {
   "cell_type": "markdown",
   "metadata": {},
   "source": [
    "# Problem:  Implement a function that takes as input three variables, and returns the largest of the three. \n",
    "Do this without using the Python max() function! \n",
    "_*Note all three input numbers will always be different, no need to account for a tie._\n",
    "\n",
    "Example input and expected output:\n",
    "\n",
    "input = your_function(1, 5, 10)\n",
    "\n",
    "expected output:  10"
   ]
  },
  {
   "cell_type": "code",
   "execution_count": 33,
   "metadata": {},
   "outputs": [
    {
     "name": "stdout",
     "output_type": "stream",
     "text": [
      "10\n",
      "10\n"
     ]
    }
   ],
   "source": [
    "# Solve Problem here:\n",
    "\n",
    "def your_function(a, b, c):\n",
    "    # Fill in your code below and return max value of a, b, c\n",
    "    inputs = [b, c]; max = a\n",
    "    \n",
    "    for num in inputs:\n",
    "        if num > a:\n",
    "            max = num\n",
    "    return max\n",
    "\n",
    "    \n",
    "print(your_function(1, 5, 10))\n",
    "print(your_function(5, 10, 5))"
   ]
  },
  {
   "cell_type": "code",
   "execution_count": 37,
   "metadata": {},
   "outputs": [
    {
     "data": {
      "text/plain": [
       "10"
      ]
     },
     "execution_count": 37,
     "metadata": {},
     "output_type": "execute_result"
    }
   ],
   "source": [
    "# Test to see if your function works properly.\n",
    "your_function(1, 5, 10)"
   ]
  },
  {
   "cell_type": "code",
   "execution_count": null,
   "metadata": {},
   "outputs": [],
   "source": []
  }
 ],
 "metadata": {
  "kernelspec": {
   "display_name": "Python 3 (ipykernel)",
   "language": "python",
   "name": "python3"
  },
  "language_info": {
   "codemirror_mode": {
    "name": "ipython",
    "version": 3
   },
   "file_extension": ".py",
   "mimetype": "text/x-python",
   "name": "python",
   "nbconvert_exporter": "python",
   "pygments_lexer": "ipython3",
   "version": "3.11.3"
  }
 },
 "nbformat": 4,
 "nbformat_minor": 4
}
