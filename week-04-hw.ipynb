{
 "cells": [
  {
   "cell_type": "markdown",
   "metadata": {},
   "source": [
    "# List Overlap \n",
    "Write a program that returns a list that contains only the elements that are common between the lists (without duplicates). Make sure your program works on two lists of different sizes."
   ]
  },
  {
   "cell_type": "code",
   "execution_count": 76,
   "metadata": {},
   "outputs": [
    {
     "name": "stdout",
     "output_type": "stream",
     "text": [
      "[1, 1, 2, 3, 5, 8, 13]\n"
     ]
    }
   ],
   "source": [
    "a = [1, 1, 2, 3, 5, 8, 13, 21, 34, 55, 89]\n",
    "b = [1, 2, 3, 4, 5, 6, 7, 8, 9, 10, 11, 12, 13]\n",
    "\n",
    "def common_in_list(list_a, list_b):\n",
    "    intersection = []\n",
    "    for item in list_a:\n",
    "        if item in list_b:\n",
    "            intersection.append(item)\n",
    "    return intersection\n",
    "\n",
    "print(common_in_list(a, b))"
   ]
  },
  {
   "cell_type": "markdown",
   "metadata": {},
   "source": [
    "# Rock Paper Scissors\n",
    "\n",
    "Make a two-player Rock-Paper-Scissors game. (Hint: Ask for player plays (using input), compare them, print out a message of congratulations to the winner.)\n",
    "\n",
    "Remember the rules:\n",
    "\n",
    "* Rock beats scissors\n",
    "* Scissors beats paper\n",
    "* Paper beats rock"
   ]
  },
  {
   "cell_type": "code",
   "execution_count": 8,
   "metadata": {},
   "outputs": [
    {
     "name": "stdout",
     "output_type": "stream",
     "text": [
      "Hi, Player  1\n",
      "Please enter your play ( rock / paper / scissors ): scissors\n",
      "Hi, Player  2\n",
      "Please enter your play ( rock / paper / scissors ): rock\n",
      "The winner is: Player  2\n"
     ]
    }
   ],
   "source": [
    "# All available plays, posisitoned by index\n",
    "plays = [\"rock\", \"paper\", \"scissors\"]\n",
    "\n",
    "\n",
    "# Function that determine the winner\n",
    "def rock_paper_scissors(play_1, play_2):\n",
    "    if play_1 == play_2:\n",
    "        return -1\n",
    "    \n",
    "    if play_1 > play_2:\n",
    "        if play_1==2 and play_2==0:\n",
    "            return 2\n",
    "        else:\n",
    "            return 1\n",
    "\n",
    "    elif play_2 > play_1:\n",
    "        if play_2==2 and play_1==0:\n",
    "            return 1\n",
    "        else:\n",
    "            return 2\n",
    "    \n",
    "# Function that receives and returns the user's play by index\n",
    "def get_input(player_id):\n",
    "    print(\"Hi, Player \", player_id)\n",
    "    user_input = input(\"Please enter your play ( rock / paper / scissors ): \")\n",
    "    user_input.lower()\n",
    "    while user_input not in plays:\n",
    "        user_input = input(\"invalid input, please renter your play ( rock / paper / scissors ): \")\n",
    "        user_input.lower()        \n",
    "    return plays.index(user_input)\n",
    "\n",
    "# Main Program\n",
    "# creates list of 2 inputs\n",
    "player_inputs = []\n",
    "for i in range(2):\n",
    "    player_inputs.append(get_input(i+1))\n",
    "\n",
    "# send 2 inputs to function\n",
    "id_winner = rock_paper_scissors(player_inputs[0], player_inputs[1])\n",
    "print(\"The winner is: Player \", id_winner)"
   ]
  },
  {
   "cell_type": "markdown",
   "metadata": {},
   "source": [
    "# Palindrome \n",
    "\n",
    "Ask the user for a string and print out whether this string is a palindrome or not. (A palindrome is a string that reads the same forwards and backwards.)"
   ]
  },
  {
   "cell_type": "code",
   "execution_count": 14,
   "metadata": {},
   "outputs": [
    {
     "name": "stdout",
     "output_type": "stream",
     "text": [
      "Please enter a word: ada\n",
      "Is this word a palindrome:  True\n"
     ]
    }
   ],
   "source": [
    "def is_palindrome(str_input):\n",
    "    str_input.lower()\n",
    "    str_reverse = str_input[::-1]\n",
    "    return str_input == str_reverse\n",
    "\n",
    "user_input = input(\"Please enter a word: \")\n",
    "print(\"Is this word a palindrome: \", is_palindrome(user_input))"
   ]
  },
  {
   "cell_type": "markdown",
   "metadata": {},
   "source": [
    "# Password Generator\n",
    "Write a password generator in Python. Be creative with how you generate passwords - strong passwords have a mix of lowercase letters, uppercase letters, numbers, and symbols. The passwords should be random.  Ask the user to input how long they want their password to be. "
   ]
  },
  {
   "cell_type": "code",
   "execution_count": 77,
   "metadata": {},
   "outputs": [
    {
     "name": "stdout",
     "output_type": "stream",
     "text": [
      "How long do you want your password to be? Must be greater than 46\n"
     ]
    },
    {
     "data": {
      "text/plain": [
       "'i9hI^y'"
      ]
     },
     "execution_count": 77,
     "metadata": {},
     "output_type": "execute_result"
    }
   ],
   "source": [
    "import random\n",
    "import re\n",
    "chars = \"abcdefghijklmnopqrstuvwxyz01234567890ABCDEFGHIJKLMNOPQRSTUVWXYZ!@#$%^&*()?\"\n",
    "\n",
    "def pwd_generator(length):\n",
    "    result = \"\"\n",
    "    for i in range (0, length):\n",
    "        result += chars[random.randrange(len(chars))]\n",
    "    while not is_strong_pwd(result):\n",
    "        result = pwd_generator(length)\n",
    "    return result\n",
    "\n",
    "\n",
    "def is_strong_pwd(test):\n",
    "    if re.search(\"[a-z]\", test) and re.search(\"[A-Z]\", test) and re.search(\"[0-9]\", test) and re.search(\"[^a-zA-Z0-9s]\", test):\n",
    "        return True\n",
    "    else:\n",
    "        return False\n",
    "    \n",
    "    \n",
    "\n",
    "len_password = int(input(\"How long do you want your password to be? Must be greater than 4\"))\n",
    "while len_password < 5: \n",
    "    len_password = int(input(\"Error. Length must be greater than 4\"))\n",
    "pwd_generator(int(len_password))"
   ]
  },
  {
   "cell_type": "markdown",
   "metadata": {},
   "source": [
    "# Divisors Solutions\n",
    "\n",
    "Create a program that asks the user for a number and then prints out a list of all the divisors of that number. (If you don’t know what a divisor is, it is a number that divides evenly into another number. For example, 13 is a divisor of 26 because 26 / 13 has no remainder.)"
   ]
  },
  {
   "cell_type": "code",
   "execution_count": 67,
   "metadata": {},
   "outputs": [
    {
     "name": "stdout",
     "output_type": "stream",
     "text": [
      "The divisors of  32  is:  [2, 4, 8, 16]\n"
     ]
    }
   ],
   "source": [
    "def find_divisors(num):\n",
    "    divisors = []\n",
    "    for test in range(2, num-1):\n",
    "        if num%test == 0:\n",
    "            divisors.append(test)\n",
    "    return divisors\n",
    "\n",
    "target = 32\n",
    "print(\"The divisors of \", target, \" is: \" , find_divisors(target))"
   ]
  },
  {
   "cell_type": "markdown",
   "metadata": {},
   "source": [
    "# Missing Character\n",
    "Given a non-empty string and an int n, return a new string where the char at index n has been removed. The value of n will be a valid index of a char in the original string (i.e. n will be in the range 0..len(str)-1 inclusive).\n",
    "\n",
    "```\n",
    "missing_char('kitten', 1) → 'ktten'\n",
    "missing_char('kitten', 0) → 'itten'\n",
    "missing_char('kitten', 4) → 'kittn'\n",
    "\n",
    "```"
   ]
  },
  {
   "cell_type": "code",
   "execution_count": 70,
   "metadata": {},
   "outputs": [
    {
     "data": {
      "text/plain": [
       "'itten'"
      ]
     },
     "execution_count": 70,
     "metadata": {},
     "output_type": "execute_result"
    }
   ],
   "source": [
    "def missing_char(word, n):\n",
    "    result = word.replace(word[n], \"\")\n",
    "    return result\n",
    "\n",
    "missing_char('kitten', 0)"
   ]
  },
  {
   "cell_type": "markdown",
   "metadata": {},
   "source": [
    "# Centered Average\n",
    "\n",
    "Return the \"centered\" average of an array of ints, which we'll say is the mean average of the values, except ignoring the largest and smallest values in the array. If there are multiple copies of the smallest value, ignore just one copy, and likewise for the largest value.  You may assume that the array is length 3 or more and will never contain negative values. \n",
    "* Round your answer to the nearest whole number.\n",
    "\n",
    "```\n",
    "centered_average([1, 2, 3, 4, 100]) → 3\n",
    "centered_average([1, 1, 5, 5, 10, 8, 7]) → 5\n",
    "```"
   ]
  },
  {
   "cell_type": "code",
   "execution_count": 75,
   "metadata": {},
   "outputs": [
    {
     "name": "stdout",
     "output_type": "stream",
     "text": [
      "54.166666666666664\n",
      "3.0\n"
     ]
    }
   ],
   "source": [
    "example_list = [100, 100, 50, 75, 50, 25, 25, 25]\n",
    "\n",
    "\n",
    "def centered_avg(nums):\n",
    "    nums.remove(max(nums))\n",
    "    nums.remove(min(nums))\n",
    "    return sum(nums)/len(nums)\n",
    "\n",
    "print(centered_avg(example_list))\n",
    "print(centered_avg([1, 2, 3, 4, 100]))"
   ]
  },
  {
   "cell_type": "code",
   "execution_count": null,
   "metadata": {},
   "outputs": [],
   "source": []
  }
 ],
 "metadata": {
  "kernelspec": {
   "display_name": "Python 3 (ipykernel)",
   "language": "python",
   "name": "python3"
  },
  "language_info": {
   "codemirror_mode": {
    "name": "ipython",
    "version": 3
   },
   "file_extension": ".py",
   "mimetype": "text/x-python",
   "name": "python",
   "nbconvert_exporter": "python",
   "pygments_lexer": "ipython3",
   "version": "3.11.3"
  }
 },
 "nbformat": 4,
 "nbformat_minor": 4
}
